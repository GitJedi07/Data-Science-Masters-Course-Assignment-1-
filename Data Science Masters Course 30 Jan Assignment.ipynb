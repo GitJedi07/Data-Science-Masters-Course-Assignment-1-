{
 "cells": [
  {
   "cell_type": "markdown",
   "id": "9a3cf458-4835-4ad4-8c6a-d060f263eec7",
   "metadata": {},
   "source": [
    "# Data Science Masters Course 30 Jan Assignment"
   ]
  },
  {
   "cell_type": "markdown",
   "id": "562aec60-af3b-4601-a05c-7b34d13d1c31",
   "metadata": {},
   "source": [
    "### 1 Solution:"
   ]
  },
  {
   "cell_type": "code",
   "execution_count": 4,
   "id": "ee405b2c-94b4-45be-8b85-28a4bff970a9",
   "metadata": {},
   "outputs": [
    {
     "name": "stdin",
     "output_type": "stream",
     "text": [
      "Enter your Percentage:  87.34\n"
     ]
    },
    {
     "name": "stdout",
     "output_type": "stream",
     "text": [
      "Congratulations! You have got B grade.\n"
     ]
    }
   ],
   "source": [
    "#Program to accept percentage from the user and display the grade according to the given criteria:\n",
    "\n",
    "percentage = float(input(\"Enter your Percentage: \"))\n",
    "if percentage > 90 and percentage <= 100:\n",
    "    print(\"Congratulations! You have got A grade.\")\n",
    "elif percentage > 80 and percentage <= 90:\n",
    "    print(\"Congratulations! You have got B grade.\")\n",
    "elif percentage >= 60 and percentage <= 80:\n",
    "    print(\"Congratulations! You have got C grade.\")\n",
    "elif percentage >= 0 and percentage < 60:\n",
    "    print(\"You have got D grade, try more :)\")\n",
    "else:\n",
    "    print(\"Please enter a valid percentage\")"
   ]
  },
  {
   "cell_type": "markdown",
   "id": "fa5d6597-aac2-4943-8789-84b3876eacda",
   "metadata": {},
   "source": [
    "### 2 Solution:"
   ]
  },
  {
   "cell_type": "code",
   "execution_count": 5,
   "id": "2ec3c674-d79f-44b9-a49e-623da97715d0",
   "metadata": {},
   "outputs": [
    {
     "name": "stdin",
     "output_type": "stream",
     "text": [
      "Enter Cost Price of your bike:  93700\n"
     ]
    },
    {
     "name": "stdout",
     "output_type": "stream",
     "text": [
      "The road tax to be paid is:  9370.0\n"
     ]
    }
   ],
   "source": [
    "#Program to accept the cost price of a bike and display the road tax to be paid according to the given criteria\n",
    "\n",
    "cost_price = int(input(\"Enter Cost Price of your bike: \"))\n",
    "if cost_price > 100000:\n",
    "    print(\"The road tax to be paid is: \",cost_price*.15)\n",
    "elif cost_price > 50000 and cost_price <= 100000:\n",
    "    print(\"The road tax to be paid is: \",cost_price*.10)\n",
    "elif cost_price > 0 and cost_price <= 50000:\n",
    "    print(\"The road tax to be paid is: \",cost_price*.05)\n",
    "else:\n",
    "    print(\"Please enter a valid Cost Price.\")"
   ]
  },
  {
   "cell_type": "markdown",
   "id": "6da55395-1600-4dd3-9d24-3a8f10c1404f",
   "metadata": {},
   "source": [
    "### 3 Solution:"
   ]
  },
  {
   "cell_type": "code",
   "execution_count": 6,
   "id": "d478c149-1e0f-4246-91e5-78e882bc06f6",
   "metadata": {},
   "outputs": [
    {
     "name": "stdin",
     "output_type": "stream",
     "text": [
      "Enter a city:  Agra\n"
     ]
    },
    {
     "name": "stdout",
     "output_type": "stream",
     "text": [
      "The monument of Agra is Taj Mahal\n"
     ]
    }
   ],
   "source": [
    "#Progarm to accept a city from the user and display the monumnet of that city\n",
    "\n",
    "city = input(\"Enter a city: \").lower()\n",
    "if city == \"delhi\":\n",
    "    print(\"The monument of Delhi is Red Fort\")\n",
    "elif city == \"jaipur\":\n",
    "    print(\"The monument of Jaipur is Jal Mahal\")\n",
    "elif city == \"agra\":\n",
    "    print(\"The monument of Agra is Taj Mahal\")\n",
    "else:\n",
    "    print(f\"Sorry, the information about this city is not availale.\")"
   ]
  },
  {
   "cell_type": "markdown",
   "id": "e04247b2-2099-410f-9801-5100712919d0",
   "metadata": {},
   "source": [
    "### 4 Solution:"
   ]
  },
  {
   "cell_type": "code",
   "execution_count": 7,
   "id": "9510c8d7-814b-4994-9309-8a1ae8611a09",
   "metadata": {},
   "outputs": [
    {
     "name": "stdin",
     "output_type": "stream",
     "text": [
      "Enter a number:  333\n"
     ]
    },
    {
     "name": "stdout",
     "output_type": "stream",
     "text": [
      "The number can be divided 4 times by 3 before it is less than or equal to 10.\n"
     ]
    }
   ],
   "source": [
    "#Program to check how many times a number can be divided by 3 before it is less than or equal to 10\n",
    "\n",
    "num = int(input(\"Enter a number: \"))\n",
    "count = 0\n",
    "while num >= 10:  \n",
    "    num = num / 3  \n",
    "    count += 1\n",
    "print(f\"The number can be divided {count} times by 3 before it is less than or equal to 10.\")"
   ]
  },
  {
   "cell_type": "markdown",
   "id": "88b5d682-d506-4851-96fc-6e1cc97475a4",
   "metadata": {},
   "source": [
    "### 5 Solution:"
   ]
  },
  {
   "cell_type": "markdown",
   "id": "bf1eec3d-c2ca-4fbe-b258-8e740d950531",
   "metadata": {},
   "source": [
    "#### Some reasons,why and when to use 'while' loop in Python are: \n",
    "##### 1) Repeated execution: A while loop is used when you need to repeatedly execute a block of code as long as a certain condition is true. This is useful when you don't know the exact number of times the loop needs to execute, but you know the condition that needs to be satisfied to continue looping.\n",
    "\n",
    "##### 2) User input: A common use case for a while loop is to repeatedly ask the user for input until they provide valid input. This is often used in programs that require user interaction, such as games or chatbots.\n",
    "\n",
    "##### 3) Data processing: A while loop can be used to process data from a source that doesn't have a fixed length, such as a stream of data from a sensor or a log file.\n",
    "\n",
    "##### 4) Control flow: A while loop is often used to control the flow of a program. For example, you might use a while loop to implement a game loop, where the loop executes each turn of the game until a winning condition is met.\n",
    "\n",
    "##### 5) Testing conditions: A while loop can be used to test conditions that change over time. For example, you might use a while loop to wait for a resource to become available, such as a lock on a file or a network connection."
   ]
  },
  {
   "cell_type": "code",
   "execution_count": 8,
   "id": "6f94222b-9113-47f3-8615-9be495e60dfd",
   "metadata": {},
   "outputs": [
    {
     "name": "stdin",
     "output_type": "stream",
     "text": [
      "Enter a number:  19\n"
     ]
    },
    {
     "name": "stdout",
     "output_type": "stream",
     "text": [
      "Multiplication table of 19:\n",
      "19 X 1 = 19\n",
      "19 X 2 = 38\n",
      "19 X 3 = 57\n",
      "19 X 4 = 76\n",
      "19 X 5 = 95\n",
      "19 X 6 = 114\n",
      "19 X 7 = 133\n",
      "19 X 8 = 152\n",
      "19 X 9 = 171\n",
      "19 X 10 = 190\n"
     ]
    }
   ],
   "source": [
    "## Qno.5 Example:\n",
    "## This program prints the multiplication table of any integer\n",
    "num = int(input(\"Enter a number: \"))\n",
    "count = 1\n",
    "print(f\"Multiplication table of {num}:\")\n",
    "while count <= 10:\n",
    "    print(f\"{num} X {count} = {num*count}\")\n",
    "    count += 1"
   ]
  },
  {
   "cell_type": "markdown",
   "id": "dab936f7-9078-4a11-b7ee-0c283389ece3",
   "metadata": {},
   "source": [
    "### 6 Solution:"
   ]
  },
  {
   "cell_type": "code",
   "execution_count": 9,
   "id": "b57c13ba-a7de-4510-bf12-925f8bdad365",
   "metadata": {},
   "outputs": [
    {
     "name": "stdin",
     "output_type": "stream",
     "text": [
      "Enter the number of rows=  6\n"
     ]
    },
    {
     "name": "stdout",
     "output_type": "stream",
     "text": [
      "* \n",
      "* * \n",
      "* * * \n",
      "* * * * \n",
      "* * * * * \n",
      "* * * * * * \n"
     ]
    },
    {
     "name": "stdin",
     "output_type": "stream",
     "text": [
      "\n",
      "\n",
      "Enter the number of rows=  7\n"
     ]
    },
    {
     "name": "stdout",
     "output_type": "stream",
     "text": [
      "1  \n",
      "1  2  \n",
      "1  2  3  \n",
      "1  2  3  4  \n",
      "1  2  3  4  5  \n",
      "1  2  3  4  5  6  \n",
      "1  2  3  4  5  6  7  \n"
     ]
    },
    {
     "name": "stdin",
     "output_type": "stream",
     "text": [
      "\n",
      "\n",
      "Enter the number of rows=  8\n"
     ]
    },
    {
     "name": "stdout",
     "output_type": "stream",
     "text": [
      "                      * \n",
      "                   *  *  * \n",
      "                *  *  *  *  * \n",
      "             *  *  *  *  *  *  * \n",
      "          *  *  *  *  *  *  *  *  * \n",
      "       *  *  *  *  *  *  *  *  *  *  * \n",
      "    *  *  *  *  *  *  *  *  *  *  *  *  * \n",
      " *  *  *  *  *  *  *  *  *  *  *  *  *  *  * \n"
     ]
    }
   ],
   "source": [
    "#Program to use nested while loop to print 3 different patterns\n",
    "\n",
    "## Pattern1: Right-angled triangle \n",
    "num_row = int(input(\"Enter the number of rows= \"))\n",
    "row = 1\n",
    "while row <= num_row:\n",
    "    col = 1\n",
    "    while col <= row:\n",
    "        print(\"* \", end=\"\")\n",
    "        col += 1\n",
    "    print()\n",
    "    row += 1\n",
    "\n",
    "## Pattern2: Trianglular numbers \n",
    "num_row = int(input(\"\\n\\nEnter the number of rows= \"))    \n",
    "row = 1\n",
    "while row <= num_row:\n",
    "    col = 1\n",
    "    while col <= row:\n",
    "        print(col,\" \", end=\"\")\n",
    "        col += 1\n",
    "    print()\n",
    "    row += 1\n",
    "\n",
    "## Pattren3: Pyramid \n",
    "num_row = int(input(\"\\n\\nEnter the number of rows= \"))    \n",
    "row = 1\n",
    "while row <= num_row:\n",
    "    spaces = num_row - row\n",
    "    stars = 2 * row - 1\n",
    "    while spaces > 0:\n",
    "        print(\"   \", end=\"\")\n",
    "        spaces -= 1\n",
    "    while stars > 0:\n",
    "        print(\" * \", end=\"\")\n",
    "        stars -= 1\n",
    "    print()\n",
    "    row += 1\n"
   ]
  },
  {
   "cell_type": "markdown",
   "id": "8b96f825-d28d-4e20-bc2b-70826bdb6538",
   "metadata": {},
   "source": [
    "### 7 Solution:"
   ]
  },
  {
   "cell_type": "code",
   "execution_count": 10,
   "id": "b36d60ae-e36d-4fea-a8b7-3ab8e9db33c6",
   "metadata": {},
   "outputs": [
    {
     "name": "stdout",
     "output_type": "stream",
     "text": [
      "10\n",
      "9\n",
      "8\n",
      "7\n",
      "6\n",
      "5\n",
      "4\n",
      "3\n",
      "2\n",
      "1\n"
     ]
    }
   ],
   "source": [
    "#Program to reverse a while loop to display numbers from 10 to 1\n",
    "\n",
    "rev_count = 10\n",
    "while rev_count > 0:\n",
    "    print(rev_count)\n",
    "    rev_count -= 1"
   ]
  },
  {
   "cell_type": "markdown",
   "id": "6d845481-4d40-47a6-804f-2705529d4c94",
   "metadata": {},
   "source": [
    "### 8 Solution:"
   ]
  },
  {
   "cell_type": "code",
   "execution_count": 11,
   "id": "07d9cd66-a3d3-4bfb-82ff-cbc9018307bd",
   "metadata": {},
   "outputs": [
    {
     "name": "stdout",
     "output_type": "stream",
     "text": [
      "10\n",
      "9\n",
      "8\n",
      "7\n",
      "6\n",
      "5\n",
      "4\n",
      "3\n",
      "2\n",
      "1\n"
     ]
    }
   ],
   "source": [
    "#Program to reverse a while loop to display numbers from 10 to 1\n",
    "\n",
    "rev_count = 10\n",
    "while rev_count > 0:\n",
    "    print(rev_count)\n",
    "    rev_count -= 1"
   ]
  },
  {
   "cell_type": "code",
   "execution_count": null,
   "id": "37dbbcc0-3940-4146-af1f-0709b9c3ca1e",
   "metadata": {},
   "outputs": [],
   "source": []
  }
 ],
 "metadata": {
  "kernelspec": {
   "display_name": "Python 3 (ipykernel)",
   "language": "python",
   "name": "python3"
  },
  "language_info": {
   "codemirror_mode": {
    "name": "ipython",
    "version": 3
   },
   "file_extension": ".py",
   "mimetype": "text/x-python",
   "name": "python",
   "nbconvert_exporter": "python",
   "pygments_lexer": "ipython3",
   "version": "3.10.8"
  }
 },
 "nbformat": 4,
 "nbformat_minor": 5
}
